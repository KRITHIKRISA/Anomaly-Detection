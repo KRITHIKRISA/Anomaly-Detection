{
  "nbformat": 4,
  "nbformat_minor": 0,
  "metadata": {
    "colab": {
      "provenance": [],
      "machine_shape": "hm",
      "gpuType": "T4"
    },
    "kernelspec": {
      "name": "python3",
      "display_name": "Python 3"
    },
    "language_info": {
      "name": "python"
    },
    "accelerator": "GPU",
    "gpuClass": "standard"
  },
  "cells": [
    {
      "cell_type": "code",
      "execution_count": null,
      "metadata": {
        "id": "AI3qJ5QSm8Q6"
      },
      "outputs": [],
      "source": [
        "import os\n",
        "import pandas as pd\n",
        "import numpy as np\n",
        "import seaborn as sns\n",
        "import matplotlib.pyplot as plt\n",
        "import os\n",
        "from imblearn.combine import SMOTETomek\n",
        "from sklearn.model_selection import train_test_split\n",
        "from prettytable import PrettyTable\n",
        "from tqdm import tqdm\n",
        "from sklearn.linear_model import LogisticRegression\n",
        "from sklearn import metrics\n",
        "from sklearn.metrics import roc_auc_score,log_loss\n",
        "from sklearn.linear_model import SGDClassifier\n",
        "from sklearn.calibration import CalibratedClassifierCV\n",
        "from sklearn.metrics import confusion_matrix\n",
        "from scipy.sparse import hstack\n",
        "from sklearn.preprocessing import OneHotEncoder\n",
        "from sklearn.ensemble import RandomForestClassifier\n",
        "from sklearn.metrics import f1_score\n",
        "from sklearn.metrics import precision_score\n",
        "from sklearn.metrics import recall_score"
      ]
    },
    {
      "cell_type": "code",
      "source": [
        "os.environ['KAGGLE_USERNAME'] = \"ajaykumarnadimpalli\" # username from the json file\n",
        "os.environ['KAGGLE_KEY'] = \"dd7bb5db682d916d04ff3d70c317a4fc\""
      ],
      "metadata": {
        "id": "RMX7ouBvoTve"
      },
      "execution_count": null,
      "outputs": []
    },
    {
      "cell_type": "code",
      "source": [
        "!kaggle datasets download -d rupakroy/online-payments-fraud-detection-dataset"
      ],
      "metadata": {
        "id": "3GOo__sGpH9c",
        "colab": {
          "base_uri": "https://localhost:8080/"
        },
        "outputId": "a7814691-d9cd-4b52-b294-8fc15ddec92e"
      },
      "execution_count": null,
      "outputs": [
        {
          "output_type": "stream",
          "name": "stdout",
          "text": [
            "online-payments-fraud-detection-dataset.zip: Skipping, found more recently modified local copy (use --force to force download)\n"
          ]
        }
      ]
    },
    {
      "cell_type": "code",
      "source": [
        "!unzip /content/online-payments-fraud-detection-dataset.zip"
      ],
      "metadata": {
        "id": "Q1nw3HB1pNXN",
        "colab": {
          "base_uri": "https://localhost:8080/"
        },
        "outputId": "85081f73-205f-411d-b2ce-72843e8ddf90"
      },
      "execution_count": null,
      "outputs": [
        {
          "output_type": "stream",
          "name": "stdout",
          "text": [
            "Archive:  /content/online-payments-fraud-detection-dataset.zip\n",
            "replace PS_20174392719_1491204439457_log.csv? [y]es, [n]o, [A]ll, [N]one, [r]ename: "
          ]
        }
      ]
    },
    {
      "cell_type": "code",
      "source": [
        "df=pd.read_csv(\"/content/PS_20174392719_1491204439457_log.csv\")"
      ],
      "metadata": {
        "id": "F1jSyUQ5pxGg"
      },
      "execution_count": null,
      "outputs": []
    },
    {
      "cell_type": "code",
      "source": [
        "df.shape"
      ],
      "metadata": {
        "colab": {
          "base_uri": "https://localhost:8080/"
        },
        "id": "YOoQYZi1quWZ",
        "outputId": "8d4db90a-8179-472f-ae78-b45a23627c3a"
      },
      "execution_count": null,
      "outputs": [
        {
          "output_type": "execute_result",
          "data": {
            "text/plain": [
              "(6362620, 11)"
            ]
          },
          "metadata": {},
          "execution_count": 9
        }
      ]
    },
    {
      "cell_type": "code",
      "source": [
        "df.columns"
      ],
      "metadata": {
        "colab": {
          "base_uri": "https://localhost:8080/"
        },
        "id": "d0EYRubJrLqD",
        "outputId": "0aec94f5-5435-4079-b029-4777dd4ef41d"
      },
      "execution_count": null,
      "outputs": [
        {
          "output_type": "execute_result",
          "data": {
            "text/plain": [
              "Index(['step', 'type', 'amount', 'nameOrig', 'oldbalanceOrg', 'newbalanceOrig',\n",
              "       'nameDest', 'oldbalanceDest', 'newbalanceDest', 'isFraud',\n",
              "       'isFlaggedFraud'],\n",
              "      dtype='object')"
            ]
          },
          "metadata": {},
          "execution_count": 10
        }
      ]
    },
    {
      "cell_type": "code",
      "source": [
        "df.isna().sum()"
      ],
      "metadata": {
        "colab": {
          "base_uri": "https://localhost:8080/"
        },
        "id": "wrHNAop0tAPW",
        "outputId": "2b5c56fd-4642-4a8c-c2a2-99c38d48bf5c"
      },
      "execution_count": null,
      "outputs": [
        {
          "output_type": "execute_result",
          "data": {
            "text/plain": [
              "step              0\n",
              "type              0\n",
              "amount            0\n",
              "nameOrig          0\n",
              "oldbalanceOrg     0\n",
              "newbalanceOrig    0\n",
              "nameDest          0\n",
              "oldbalanceDest    0\n",
              "newbalanceDest    0\n",
              "isFraud           0\n",
              "isFlaggedFraud    0\n",
              "dtype: int64"
            ]
          },
          "metadata": {},
          "execution_count": 11
        }
      ]
    },
    {
      "cell_type": "code",
      "source": [
        "df[\"isFraud\"].value_counts()"
      ],
      "metadata": {
        "colab": {
          "base_uri": "https://localhost:8080/"
        },
        "id": "ZVFg4QFBrcyw",
        "outputId": "ffb628ab-1dbe-45bf-ac37-8bf1f27c64ef"
      },
      "execution_count": null,
      "outputs": [
        {
          "output_type": "execute_result",
          "data": {
            "text/plain": [
              "0    6354407\n",
              "1       8213\n",
              "Name: isFraud, dtype: int64"
            ]
          },
          "metadata": {},
          "execution_count": 12
        }
      ]
    },
    {
      "cell_type": "code",
      "source": [
        "fraud=df[df[\"isFraud\"]==1]\n",
        "nofraud=df[df[\"isFraud\"]==0]"
      ],
      "metadata": {
        "id": "tlL2vqv9RoNh"
      },
      "execution_count": null,
      "outputs": []
    },
    {
      "cell_type": "markdown",
      "source": [
        "It's a highly imbalanced dataset"
      ],
      "metadata": {
        "id": "RIfu6MTdx80P"
      }
    },
    {
      "cell_type": "code",
      "source": [
        "df=df.drop(\"isFlaggedFraud\",axis=1)"
      ],
      "metadata": {
        "id": "EiGBoJWTrhCV"
      },
      "execution_count": null,
      "outputs": []
    },
    {
      "cell_type": "markdown",
      "source": [
        "STEP"
      ],
      "metadata": {
        "id": "RPc1H_peMiPN"
      }
    },
    {
      "cell_type": "code",
      "source": [
        "df[\"step\"]=df[\"step\"]//24"
      ],
      "metadata": {
        "id": "7G-mj04f0SQL"
      },
      "execution_count": null,
      "outputs": []
    },
    {
      "cell_type": "markdown",
      "source": [
        "Histogram for a time steps where there was no fraud"
      ],
      "metadata": {
        "id": "FNsZ0rgdz4ru"
      }
    },
    {
      "cell_type": "code",
      "source": [
        "df[df.iloc[:,-1]==0][\"step\"].hist(bins=10)"
      ],
      "metadata": {
        "colab": {
          "base_uri": "https://localhost:8080/",
          "height": 463
        },
        "id": "MwnMgg0yxVOB",
        "outputId": "c2094b92-8309-4a3b-fa1c-485a6129c970"
      },
      "execution_count": null,
      "outputs": [
        {
          "output_type": "execute_result",
          "data": {
            "text/plain": [
              "<Axes: >"
            ]
          },
          "metadata": {},
          "execution_count": 16
        },
        {
          "output_type": "display_data",
          "data": {
            "text/plain": [
              "<Figure size 640x480 with 1 Axes>"
            ],
            "image/png": "[encoded data removed]"
          },
          "metadata": {}
        }
      ]
    },
    {
      "cell_type": "markdown",
      "source": [
        "Histogram for a time steps where there was a fraud"
      ],
      "metadata": {
        "id": "gamiWzK90Bxz"
      }
    },
    {
      "cell_type": "code",
      "source": [
        "df[df.iloc[:,-1]==1][\"step\"].hist(bins=10)"
      ],
      "metadata": {
        "colab": {
          "base_uri": "https://localhost:8080/",
          "height": 448
        },
        "id": "RAjZLi0oxnqA",
        "outputId": "54125729-4113-4812-eb46-1599b879d630"
      },
      "execution_count": null,
      "outputs": [
        {
          "output_type": "execute_result",
          "data": {
            "text/plain": [
              "<Axes: >"
            ]
          },
          "metadata": {},
          "execution_count": 17
        },
        {
          "output_type": "display_data",
          "data": {
            "text/plain": [
              "<Figure size 640x480 with 1 Axes>"
            ],
            "image/png": "[encoded data removed]"
          },
          "metadata": {}
        }
      ]
    },
    {
      "cell_type": "markdown",
      "source": [
        "The probability that payments which took more than 15 days is significantly high. But, in real world, transactions seldom go beyond a week unless it's a not a bank transfer, international transfer and where huge amount is involved.So, let's investigate the type of transactions.\n"
      ],
      "metadata": {
        "id": "xGPrn-Kh0L2j"
      }
    },
    {
      "cell_type": "markdown",
      "source": [
        "**TYPE**"
      ],
      "metadata": {
        "id": "JHT7F-B9Mm_8"
      }
    },
    {
      "cell_type": "code",
      "source": [
        "df[\"type\"].value_counts()"
      ],
      "metadata": {
        "colab": {
          "base_uri": "https://localhost:8080/"
        },
        "id": "gsaFyj6n6Vu6",
        "outputId": "b250a63c-493f-47ae-f946-68505891be6e"
      },
      "execution_count": null,
      "outputs": [
        {
          "output_type": "execute_result",
          "data": {
            "text/plain": [
              "CASH_OUT    2237500\n",
              "PAYMENT     2151495\n",
              "CASH_IN     1399284\n",
              "TRANSFER     532909\n",
              "DEBIT         41432\n",
              "Name: type, dtype: int64"
            ]
          },
          "metadata": {},
          "execution_count": 18
        }
      ]
    },
    {
      "cell_type": "markdown",
      "source": [
        "Now, let's investigate if there is any difference between payments of different kind."
      ],
      "metadata": {
        "id": "JERBZW2N1r_J"
      }
    },
    {
      "cell_type": "code",
      "source": [
        "nofraud.groupby(\"type\")[\"step\"].describe()"
      ],
      "metadata": {
        "colab": {
          "base_uri": "https://localhost:8080/",
          "height": 237
        },
        "id": "DA3nCa573FEb",
        "outputId": "0c2c90e3-c608-4751-e341-bc1ab1ebc9b0"
      },
      "execution_count": null,
      "outputs": [
        {
          "output_type": "execute_result",
          "data": {
            "text/plain": [
              "              count        mean         std  min    25%    50%    75%    max\n",
              "type                                                                        \n",
              "CASH_IN   1399284.0  244.490093  142.925962  1.0  156.0  249.0  345.0  718.0\n",
              "CASH_OUT  2233384.0  240.667014  140.492174  1.0  155.0  236.0  332.0  718.0\n",
              "DEBIT       41432.0  248.440481  149.843650  1.0  153.0  252.0  350.0  718.0\n",
              "PAYMENT   2151495.0  244.378179  142.695066  1.0  156.0  249.0  335.0  718.0\n",
              "TRANSFER   528812.0  245.708590  143.922349  1.0  156.0  249.0  346.0  718.0"
            ],
            "text/html": [
              "\n",
              "  <div id=\"df-c93fad7f-dd90-4d90-baa3-a9aa2c1a40ca\">\n",
              "    <div class=\"colab-df-container\">\n",
              "      <div>\n",
              "<style scoped>\n",
              "    .dataframe tbody tr th:only-of-type {\n",
              "        vertical-align: middle;\n",
              "    }\n",
              "\n",
              "    .dataframe tbody tr th {\n",
              "        vertical-align: top;\n",
              "    }\n",
              "\n",
              "    .dataframe thead th {\n",
              "        text-align: right;\n",
              "    }\n",
              "</style>\n",
              "<table border=\"1\" class=\"dataframe\">\n",
              "  <thead>\n",
              "    <tr style=\"text-align: right;\">\n",
              "      <th></th>\n",
              "      <th>count</th>\n",
              "      <th>mean</th>\n",
              "      <th>std</th>\n",
              "      <th>min</th>\n",
              "      <th>25%</th>\n",
              "      <th>50%</th>\n",
              "      <th>75%</th>\n",
              "      <th>max</th>\n",
              "    </tr>\n",
              "    <tr>\n",
              "      <th>type</th>\n",
              "      <th></th>\n",
              "      <th></th>\n",
              "      <th></th>\n",
              "      <th></th>\n",
              "      <th></th>\n",
              "      <th></th>\n",
              "      <th></th>\n",
              "      <th></th>\n",
              "    </tr>\n",
              "  </thead>\n",
              "  <tbody>\n",
              "    <tr>\n",
              "      <th>CASH_IN</th>\n",
              "      <td>1399284.0</td>\n",
              "      <td>244.490093</td>\n",
              "      <td>142.925962</td>\n",
              "      <td>1.0</td>\n",
              "      <td>156.0</td>\n",
              "      <td>249.0</td>\n",
              "      <td>345.0</td>\n",
              "      <td>718.0</td>\n",
              "    </tr>\n",
              "    <tr>\n",
              "      <th>CASH_OUT</th>\n",
              "      <td>2233384.0</td>\n",
              "      <td>240.667014</td>\n",
              "      <td>140.492174</td>\n",
              "      <td>1.0</td>\n",
              "      <td>155.0</td>\n",
              "      <td>236.0</td>\n",
              "      <td>332.0</td>\n",
              "      <td>718.0</td>\n",
              "    </tr>\n",
              "    <tr>\n",
              "      <th>DEBIT</th>\n",
              "      <td>41432.0</td>\n",
              "      <td>248.440481</td>\n",
              "      <td>149.843650</td>\n",
              "      <td>1.0</td>\n",
              "      <td>153.0</td>\n",
              "      <td>252.0</td>\n",
              "      <td>350.0</td>\n",
              "      <td>718.0</td>\n",
              "    </tr>\n",
              "    <tr>\n",
              "      <th>PAYMENT</th>\n",
              "      <td>2151495.0</td>\n",
              "      <td>244.378179</td>\n",
              "      <td>142.695066</td>\n",
              "      <td>1.0</td>\n",
              "      <td>156.0</td>\n",
              "      <td>249.0</td>\n",
              "      <td>335.0</td>\n",
              "      <td>718.0</td>\n",
              "    </tr>\n",
              "    <tr>\n",
              "      <th>TRANSFER</th>\n",
              "      <td>528812.0</td>\n",
              "      <td>245.708590</td>\n",
              "      <td>143.922349</td>\n",
              "      <td>1.0</td>\n",
              "      <td>156.0</td>\n",
              "      <td>249.0</td>\n",
              "      <td>346.0</td>\n",
              "      <td>718.0</td>\n",
              "    </tr>\n",
              "  </tbody>\n",
              "</table>\n",
              "</div>\n",
              "      <button class=\"colab-df-convert\" onclick=\"convertToInteractive('df-c93fad7f-dd90-4d90-baa3-a9aa2c1a40ca')\"\n",
              "              title=\"Convert this dataframe to an interactive table.\"\n",
              "              style=\"display:none;\">\n",
              "        \n",
              "  <svg xmlns=\"http://www.w3.org/2000/svg\" height=\"24px\"viewBox=\"0 0 24 24\"\n",
              "       width=\"24px\">\n",
              "    <path d=\"M0 0h24v24H0V0z\" fill=\"none\"/>\n",
              "    <path d=\"M18.56 5.44l.94 2.06.94-2.06 2.06-.94-2.06-.94-.94-2.06-.94 2.06-2.06.94zm-11 1L8.5 8.5l.94-2.06 2.06-.94-2.06-.94L8.5 2.5l-.94 2.06-2.06.94zm10 10l.94 2.06.94-2.06 2.06-.94-2.06-.94-.94-2.06-.94 2.06-2.06.94z\"/><path d=\"M17.41 7.96l-1.37-1.37c-.4-.4-.92-.59-1.43-.59-.52 0-1.04.2-1.43.59L10.3 9.45l-7.72 7.72c-.78.78-.78 2.05 0 2.83L4 21.41c.39.39.9.59 1.41.59.51 0 1.02-.2 1.41-.59l7.78-7.78 2.81-2.81c.8-.78.8-2.07 0-2.86zM5.41 20L4 18.59l7.72-7.72 1.47 1.35L5.41 20z\"/>\n",
              "  </svg>\n",
              "      </button>\n",
              "      \n",
              "  <style>\n",
              "    .colab-df-container {\n",
              "      display:flex;\n",
              "      flex-wrap:wrap;\n",
              "      gap: 12px;\n",
              "    }\n",
              "\n",
              "    .colab-df-convert {\n",
              "      background-color: #E8F0FE;\n",
              "      border: none;\n",
              "      border-radius: 50%;\n",
              "      cursor: pointer;\n",
              "      display: none;\n",
              "      fill: #1967D2;\n",
              "      height: 32px;\n",
              "      padding: 0 0 0 0;\n",
              "      width: 32px;\n",
              "    }\n",
              "\n",
              "    .colab-df-convert:hover {\n",
              "      background-color: #E2EBFA;\n",
              "      box-shadow: 0px 1px 2px rgba(60, 64, 67, 0.3), 0px 1px 3px 1px rgba(60, 64, 67, 0.15);\n",
              "      fill: #174EA6;\n",
              "    }\n",
              "\n",
              "    [theme=dark] .colab-df-convert {\n",
              "      background-color: #3B4455;\n",
              "      fill: #D2E3FC;\n",
              "    }\n",
              "\n",
              "    [theme=dark] .colab-df-convert:hover {\n",
              "      background-color: #434B5C;\n",
              "      box-shadow: 0px 1px 3px 1px rgba(0, 0, 0, 0.15);\n",
              "      filter: drop-shadow(0px 1px 2px rgba(0, 0, 0, 0.3));\n",
              "      fill: #FFFFFF;\n",
              "    }\n",
              "  </style>\n",
              "\n",
              "      <script>\n",
              "        const buttonEl =\n",
              "          document.querySelector('#df-c93fad7f-dd90-4d90-baa3-a9aa2c1a40ca button.colab-df-convert');\n",
              "        buttonEl.style.display =\n",
              "          google.colab.kernel.accessAllowed ? 'block' : 'none';\n",
              "\n",
              "        async function convertToInteractive(key) {\n",
              "          const element = document.querySelector('#df-c93fad7f-dd90-4d90-baa3-a9aa2c1a40ca');\n",
              "          const dataTable =\n",
              "            await google.colab.kernel.invokeFunction('convertToInteractive',\n",
              "                                                     [key], {});\n",
              "          if (!dataTable) return;\n",
              "\n",
              "          const docLinkHtml = 'Like what you see? Visit the ' +\n",
              "            '<a target=\"_blank\" href=https://colab.research.google.com/notebooks/data_table.ipynb>data table notebook</a>'\n",
              "            + ' to learn more about interactive tables.';\n",
              "          element.innerHTML = '';\n",
              "          dataTable['output_type'] = 'display_data';\n",
              "          await google.colab.output.renderOutput(dataTable, element);\n",
              "          const docLink = document.createElement('div');\n",
              "          docLink.innerHTML = docLinkHtml;\n",
              "          element.appendChild(docLink);\n",
              "        }\n",
              "      </script>\n",
              "    </div>\n",
              "  </div>\n",
              "  "
            ]
          },
          "metadata": {},
          "execution_count": 19
        }
      ]
    },
    {
      "cell_type": "code",
      "source": [
        "fraud.groupby(\"type\")[\"step\"].describe()"
      ],
      "metadata": {
        "colab": {
          "base_uri": "https://localhost:8080/",
          "height": 143
        },
        "id": "FAyUZNmH6Fx6",
        "outputId": "3ad15801-c202-4ac2-dc35-fe3409011857"
      },
      "execution_count": null,
      "outputs": [
        {
          "output_type": "execute_result",
          "data": {
            "text/plain": [
              "           count        mean         std  min    25%    50%    75%    max\n",
              "type                                                                     \n",
              "CASH_OUT  4116.0  367.720360  216.670186  1.0  180.0  367.0  558.0  743.0\n",
              "TRANSFER  4097.0  369.110569  216.129726  1.0  182.0  369.0  558.0  743.0"
            ],
            "text/html": [
              "\n",
              "  <div id=\"df-983bb950-81cc-432d-a2a3-b62da918c060\">\n",
              "    <div class=\"colab-df-container\">\n",
              "      <div>\n",
              "<style scoped>\n",
              "    .dataframe tbody tr th:only-of-type {\n",
              "        vertical-align: middle;\n",
              "    }\n",
              "\n",
              "    .dataframe tbody tr th {\n",
              "        vertical-align: top;\n",
              "    }\n",
              "\n",
              "    .dataframe thead th {\n",
              "        text-align: right;\n",
              "    }\n",
              "</style>\n",
              "<table border=\"1\" class=\"dataframe\">\n",
              "  <thead>\n",
              "    <tr style=\"text-align: right;\">\n",
              "      <th></th>\n",
              "      <th>count</th>\n",
              "      <th>mean</th>\n",
              "      <th>std</th>\n",
              "      <th>min</th>\n",
              "      <th>25%</th>\n",
              "      <th>50%</th>\n",
              "      <th>75%</th>\n",
              "      <th>max</th>\n",
              "    </tr>\n",
              "    <tr>\n",
              "      <th>type</th>\n",
              "      <th></th>\n",
              "      <th></th>\n",
              "      <th></th>\n",
              "      <th></th>\n",
              "      <th></th>\n",
              "      <th></th>\n",
              "      <th></th>\n",
              "      <th></th>\n",
              "    </tr>\n",
              "  </thead>\n",
              "  <tbody>\n",
              "    <tr>\n",
              "      <th>CASH_OUT</th>\n",
              "      <td>4116.0</td>\n",
              "      <td>367.720360</td>\n",
              "      <td>216.670186</td>\n",
              "      <td>1.0</td>\n",
              "      <td>180.0</td>\n",
              "      <td>367.0</td>\n",
              "      <td>558.0</td>\n",
              "      <td>743.0</td>\n",
              "    </tr>\n",
              "    <tr>\n",
              "      <th>TRANSFER</th>\n",
              "      <td>4097.0</td>\n",
              "      <td>369.110569</td>\n",
              "      <td>216.129726</td>\n",
              "      <td>1.0</td>\n",
              "      <td>182.0</td>\n",
              "      <td>369.0</td>\n",
              "      <td>558.0</td>\n",
              "      <td>743.0</td>\n",
              "    </tr>\n",
              "  </tbody>\n",
              "</table>\n",
              "</div>\n",
              "      <button class=\"colab-df-convert\" onclick=\"convertToInteractive('df-983bb950-81cc-432d-a2a3-b62da918c060')\"\n",
              "              title=\"Convert this dataframe to an interactive table.\"\n",
              "              style=\"display:none;\">\n",
              "        \n",
              "  <svg xmlns=\"http://www.w3.org/2000/svg\" height=\"24px\"viewBox=\"0 0 24 24\"\n",
              "       width=\"24px\">\n",
              "    <path d=\"M0 0h24v24H0V0z\" fill=\"none\"/>\n",
              "    <path d=\"M18.56 5.44l.94 2.06.94-2.06 2.06-.94-2.06-.94-.94-2.06-.94 2.06-2.06.94zm-11 1L8.5 8.5l.94-2.06 2.06-.94-2.06-.94L8.5 2.5l-.94 2.06-2.06.94zm10 10l.94 2.06.94-2.06 2.06-.94-2.06-.94-.94-2.06-.94 2.06-2.06.94z\"/><path d=\"M17.41 7.96l-1.37-1.37c-.4-.4-.92-.59-1.43-.59-.52 0-1.04.2-1.43.59L10.3 9.45l-7.72 7.72c-.78.78-.78 2.05 0 2.83L4 21.41c.39.39.9.59 1.41.59.51 0 1.02-.2 1.41-.59l7.78-7.78 2.81-2.81c.8-.78.8-2.07 0-2.86zM5.41 20L4 18.59l7.72-7.72 1.47 1.35L5.41 20z\"/>\n",
              "  </svg>\n",
              "      </button>\n",
              "      \n",
              "  <style>\n",
              "    .colab-df-container {\n",
              "      display:flex;\n",
              "      flex-wrap:wrap;\n",
              "      gap: 12px;\n",
              "    }\n",
              "\n",
              "    .colab-df-convert {\n",
              "      background-color: #E8F0FE;\n",
              "      border: none;\n",
              "      border-radius: 50%;\n",
              "      cursor: pointer;\n",
              "      display: none;\n",
              "      fill: #1967D2;\n",
              "      height: 32px;\n",
              "      padding: 0 0 0 0;\n",
              "      width: 32px;\n",
              "    }\n",
              "\n",
              "    .colab-df-convert:hover {\n",
              "      background-color: #E2EBFA;\n",
              "      box-shadow: 0px 1px 2px rgba(60, 64, 67, 0.3), 0px 1px 3px 1px rgba(60, 64, 67, 0.15);\n",
              "      fill: #174EA6;\n",
              "    }\n",
              "\n",
              "    [theme=dark] .colab-df-convert {\n",
              "      background-color: #3B4455;\n",
              "      fill: #D2E3FC;\n",
              "    }\n",
              "\n",
              "    [theme=dark] .colab-df-convert:hover {\n",
              "      background-color: #434B5C;\n",
              "      box-shadow: 0px 1px 3px 1px rgba(0, 0, 0, 0.15);\n",
              "      filter: drop-shadow(0px 1px 2px rgba(0, 0, 0, 0.3));\n",
              "      fill: #FFFFFF;\n",
              "    }\n",
              "  </style>\n",
              "\n",
              "      <script>\n",
              "        const buttonEl =\n",
              "          document.querySelector('#df-983bb950-81cc-432d-a2a3-b62da918c060 button.colab-df-convert');\n",
              "        buttonEl.style.display =\n",
              "          google.colab.kernel.accessAllowed ? 'block' : 'none';\n",
              "\n",
              "        async function convertToInteractive(key) {\n",
              "          const element = document.querySelector('#df-983bb950-81cc-432d-a2a3-b62da918c060');\n",
              "          const dataTable =\n",
              "            await google.colab.kernel.invokeFunction('convertToInteractive',\n",
              "                                                     [key], {});\n",
              "          if (!dataTable) return;\n",
              "\n",
              "          const docLinkHtml = 'Like what you see? Visit the ' +\n",
              "            '<a target=\"_blank\" href=https://colab.research.google.com/notebooks/data_table.ipynb>data table notebook</a>'\n",
              "            + ' to learn more about interactive tables.';\n",
              "          element.innerHTML = '';\n",
              "          dataTable['output_type'] = 'display_data';\n",
              "          await google.colab.output.renderOutput(dataTable, element);\n",
              "          const docLink = document.createElement('div');\n",
              "          docLink.innerHTML = docLinkHtml;\n",
              "          element.appendChild(docLink);\n",
              "        }\n",
              "      </script>\n",
              "    </div>\n",
              "  </div>\n",
              "  "
            ]
          },
          "metadata": {},
          "execution_count": 20
        }
      ]
    },
    {
      "cell_type": "markdown",
      "source": [
        "Only Cashout and Transfer type of payments have fraud issue. Also, Cashout and transfer which had been classified as fraud have taken an average time of more than 14 days."
      ],
      "metadata": {
        "id": "QQ1zt0ca7DAo"
      }
    },
    {
      "cell_type": "code",
      "source": [
        "plt.figure()\n",
        "plt.boxplot(df.loc[np.where((df['type']==\"CASH_OUT\") & (df['isFraud']== 0) )][\"step\"])\n",
        "\n",
        "plt.figure()\n",
        "plt.boxplot(df.loc[np.where((df['type']==\"CASH_OUT\") & (df['isFraud']== 1) )][\"step\"])\n",
        "\n",
        "\n",
        "plt.show()"
      ],
      "metadata": {
        "colab": {
          "base_uri": "https://localhost:8080/",
          "height": 843
        },
        "id": "MM9fU1A82l6E",
        "outputId": "7c69726e-10a7-4669-d887-f8df5e0274df"
      },
      "execution_count": null,
      "outputs": [
        {
          "output_type": "display_data",
          "data": {
            "text/plain": [
              "<Figure size 640x480 with 1 Axes>"
            ],
            "image/png": "[encoded data removed]"
          },
          "metadata": {}
        },
        {
          "output_type": "display_data",
          "data": {
            "text/plain": [
              "<Figure size 640x480 with 1 Axes>"
            ],
            "image/png": "[encoded data removed]"
          },
          "metadata": {}
        }
      ]
    },
    {
      "cell_type": "markdown",
      "source": [
        "Excluding some outliers, there is a high probability that a transaction is fraud if time taken is higher than 15 days. Let's use response coding for Type column."
      ],
      "metadata": {
        "id": "wq0PoU9zsGyX"
      }
    },
    {
      "cell_type": "markdown",
      "source": [
        "**NameOrig**"
      ],
      "metadata": {
        "id": "sNAr601RMsUG"
      }
    },
    {
      "cell_type": "code",
      "source": [
        "fraud[\"nameOrig\"].value_counts().hist()"
      ],
      "metadata": {
        "colab": {
          "base_uri": "https://localhost:8080/",
          "height": 448
        },
        "id": "SjhL1Rr3Knqb",
        "outputId": "00ead704-8616-4f02-c6aa-0788712bf7b3"
      },
      "execution_count": null,
      "outputs": [
        {
          "output_type": "execute_result",
          "data": {
            "text/plain": [
              "<Axes: >"
            ]
          },
          "metadata": {},
          "execution_count": 22
        },
        {
          "output_type": "display_data",
          "data": {
            "text/plain": [
              "<Figure size 640x480 with 1 Axes>"
            ],
            "image/png": "[encoded data removed]"
          },
          "metadata": {}
        }
      ]
    },
    {
      "cell_type": "code",
      "source": [
        "nofraud[\"nameOrig\"].value_counts().hist()"
      ],
      "metadata": {
        "colab": {
          "base_uri": "https://localhost:8080/",
          "height": 463
        },
        "id": "jrcUjgunKrsV",
        "outputId": "d0d167dc-dde3-469b-c26f-d5f3efde9cd7"
      },
      "execution_count": null,
      "outputs": [
        {
          "output_type": "execute_result",
          "data": {
            "text/plain": [
              "<Axes: >"
            ]
          },
          "metadata": {},
          "execution_count": 23
        },
        {
          "output_type": "display_data",
          "data": {
            "text/plain": [
              "<Figure size 640x480 with 1 Axes>"
            ],
            "image/png": "[encoded data removed]"
          },
          "metadata": {}
        }
      ]
    },
    {
      "cell_type": "code",
      "source": [
        "d=dict(df[\"nameOrig\"].value_counts(sort=False))"
      ],
      "metadata": {
        "id": "C_st5NslU7Ly"
      },
      "execution_count": null,
      "outputs": []
    },
    {
      "cell_type": "code",
      "source": [
        "df[\"nameOrig\"]=df[\"nameOrig\"].map(d)"
      ],
      "metadata": {
        "id": "AS8IA2TWfF5J"
      },
      "execution_count": null,
      "outputs": []
    },
    {
      "cell_type": "code",
      "source": [
        "df[\"nameOrig\"]"
      ],
      "metadata": {
        "colab": {
          "base_uri": "https://localhost:8080/"
        },
        "id": "NqIwMW76f3T5",
        "outputId": "3555d830-5f3f-4e53-994f-30ec62abc9ad"
      },
      "execution_count": null,
      "outputs": [
        {
          "output_type": "execute_result",
          "data": {
            "text/plain": [
              "0          1\n",
              "1          1\n",
              "2          1\n",
              "3          1\n",
              "4          1\n",
              "          ..\n",
              "6362615    1\n",
              "6362616    1\n",
              "6362617    1\n",
              "6362618    1\n",
              "6362619    1\n",
              "Name: nameOrig, Length: 6362620, dtype: int64"
            ]
          },
          "metadata": {},
          "execution_count": 26
        }
      ]
    },
    {
      "cell_type": "markdown",
      "source": [
        "Failed transactions have had orginated a transaction utmost once.  let's create a feature which counts the number of times a transaction is originated."
      ],
      "metadata": {
        "id": "n_FI9rgvKyXj"
      }
    },
    {
      "cell_type": "markdown",
      "source": [
        "**NameDest**"
      ],
      "metadata": {
        "id": "Bw77syX6MyLX"
      }
    },
    {
      "cell_type": "code",
      "source": [
        "fraud[\"nameDest\"].value_counts().hist()"
      ],
      "metadata": {
        "colab": {
          "base_uri": "https://localhost:8080/",
          "height": 448
        },
        "id": "-3MK5tFH70MQ",
        "outputId": "bb6622d5-308f-4226-8d4b-6b7e8d64bb3b"
      },
      "execution_count": null,
      "outputs": [
        {
          "output_type": "execute_result",
          "data": {
            "text/plain": [
              "<Axes: >"
            ]
          },
          "metadata": {},
          "execution_count": 27
        },
        {
          "output_type": "display_data",
          "data": {
            "text/plain": [
              "<Figure size 640x480 with 1 Axes>"
            ],
            "image/png": "[encoded data removed]"
          },
          "metadata": {}
        }
      ]
    },
    {
      "cell_type": "code",
      "source": [
        "nofraud[\"nameDest\"].value_counts().hist()"
      ],
      "metadata": {
        "colab": {
          "base_uri": "https://localhost:8080/",
          "height": 463
        },
        "id": "__LwhVv1MMi4",
        "outputId": "b5fc3927-4420-4f12-a466-64891825344e"
      },
      "execution_count": null,
      "outputs": [
        {
          "output_type": "execute_result",
          "data": {
            "text/plain": [
              "<Axes: >"
            ]
          },
          "metadata": {},
          "execution_count": 28
        },
        {
          "output_type": "display_data",
          "data": {
            "text/plain": [
              "<Figure size 640x480 with 1 Axes>"
            ],
            "image/png": "[encoded data removed]"
          },
          "metadata": {}
        }
      ]
    },
    {
      "cell_type": "markdown",
      "source": [
        "Receivers had utmost two fraud transactions. let's create a feature which records whether received transactions are more than 2 or not."
      ],
      "metadata": {
        "id": "2dOcnJc0GH-k"
      }
    },
    {
      "cell_type": "code",
      "source": [
        "O=dict(df[\"nameDest\"].value_counts(sort=False))"
      ],
      "metadata": {
        "id": "bUfEwfprQCOu"
      },
      "execution_count": null,
      "outputs": []
    },
    {
      "cell_type": "code",
      "source": [
        "df[\"nameDest\"]=df[\"nameDest\"].map(O)"
      ],
      "metadata": {
        "id": "nZ9mSMbvQCS7"
      },
      "execution_count": null,
      "outputs": []
    },
    {
      "cell_type": "code",
      "source": [
        "df.head(5)"
      ],
      "metadata": {
        "colab": {
          "base_uri": "https://localhost:8080/",
          "height": 206
        },
        "id": "YpLd9Z_Ng92T",
        "outputId": "c12ba3bf-55d9-4aa0-cc3c-14505296f0ab"
      },
      "execution_count": null,
      "outputs": [
        {
          "output_type": "execute_result",
          "data": {
            "text/plain": [
              "   step      type    amount  nameOrig  oldbalanceOrg  newbalanceOrig  \\\n",
              "0     0   PAYMENT   9839.64         1       170136.0       160296.36   \n",
              "1     0   PAYMENT   1864.28         1        21249.0        19384.72   \n",
              "2     0  TRANSFER    181.00         1          181.0            0.00   \n",
              "3     0  CASH_OUT    181.00         1          181.0            0.00   \n",
              "4     0   PAYMENT  11668.14         1        41554.0        29885.86   \n",
              "\n",
              "   nameDest  oldbalanceDest  newbalanceDest  isFraud  \n",
              "0         1             0.0             0.0        0  \n",
              "1         1             0.0             0.0        0  \n",
              "2        44             0.0             0.0        1  \n",
              "3        41         21182.0             0.0        1  \n",
              "4         1             0.0             0.0        0  "
            ],
            "text/html": [
              "\n",
              "  <div id=\"df-ec76387b-83e9-48f0-b6d0-0381854cded0\">\n",
              "    <div class=\"colab-df-container\">\n",
              "      <div>\n",
              "<style scoped>\n",
              "    .dataframe tbody tr th:only-of-type {\n",
              "        vertical-align: middle;\n",
              "    }\n",
              "\n",
              "    .dataframe tbody tr th {\n",
              "        vertical-align: top;\n",
              "    }\n",
              "\n",
              "    .dataframe thead th {\n",
              "        text-align: right;\n",
              "    }\n",
              "</style>\n",
              "<table border=\"1\" class=\"dataframe\">\n",
              "  <thead>\n",
              "    <tr style=\"text-align: right;\">\n",
              "      <th></th>\n",
              "      <th>step</th>\n",
              "      <th>type</th>\n",
              "      <th>amount</th>\n",
              "      <th>nameOrig</th>\n",
              "      <th>oldbalanceOrg</th>\n",
              "      <th>newbalanceOrig</th>\n",
              "      <th>nameDest</th>\n",
              "      <th>oldbalanceDest</th>\n",
              "      <th>newbalanceDest</th>\n",
              "      <th>isFraud</th>\n",
              "    </tr>\n",
              "  </thead>\n",
              "  <tbody>\n",
              "    <tr>\n",
              "      <th>0</th>\n",
              "      <td>0</td>\n",
              "      <td>PAYMENT</td>\n",
              "      <td>9839.64</td>\n",
              "      <td>1</td>\n",
              "      <td>170136.0</td>\n",
              "      <td>160296.36</td>\n",
              "      <td>1</td>\n",
              "      <td>0.0</td>\n",
              "      <td>0.0</td>\n",
              "      <td>0</td>\n",
              "    </tr>\n",
              "    <tr>\n",
              "      <th>1</th>\n",
              "      <td>0</td>\n",
              "      <td>PAYMENT</td>\n",
              "      <td>1864.28</td>\n",
              "      <td>1</td>\n",
              "      <td>21249.0</td>\n",
              "      <td>19384.72</td>\n",
              "      <td>1</td>\n",
              "      <td>0.0</td>\n",
              "      <td>0.0</td>\n",
              "      <td>0</td>\n",
              "    </tr>\n",
              "    <tr>\n",
              "      <th>2</th>\n",
              "      <td>0</td>\n",
              "      <td>TRANSFER</td>\n",
              "      <td>181.00</td>\n",
              "      <td>1</td>\n",
              "      <td>181.0</td>\n",
              "      <td>0.00</td>\n",
              "      <td>44</td>\n",
              "      <td>0.0</td>\n",
              "      <td>0.0</td>\n",
              "      <td>1</td>\n",
              "    </tr>\n",
              "    <tr>\n",
              "      <th>3</th>\n",
              "      <td>0</td>\n",
              "      <td>CASH_OUT</td>\n",
              "      <td>181.00</td>\n",
              "      <td>1</td>\n",
              "      <td>181.0</td>\n",
              "      <td>0.00</td>\n",
              "      <td>41</td>\n",
              "      <td>21182.0</td>\n",
              "      <td>0.0</td>\n",
              "      <td>1</td>\n",
              "    </tr>\n",
              "    <tr>\n",
              "      <th>4</th>\n",
              "      <td>0</td>\n",
              "      <td>PAYMENT</td>\n",
              "      <td>11668.14</td>\n",
              "      <td>1</td>\n",
              "      <td>41554.0</td>\n",
              "      <td>29885.86</td>\n",
              "      <td>1</td>\n",
              "      <td>0.0</td>\n",
              "      <td>0.0</td>\n",
              "      <td>0</td>\n",
              "    </tr>\n",
              "  </tbody>\n",
              "</table>\n",
              "</div>\n",
              "      <button class=\"colab-df-convert\" onclick=\"convertToInteractive('df-ec76387b-83e9-48f0-b6d0-0381854cded0')\"\n",
              "              title=\"Convert this dataframe to an interactive table.\"\n",
              "              style=\"display:none;\">\n",
              "        \n",
              "  <svg xmlns=\"http://www.w3.org/2000/svg\" height=\"24px\"viewBox=\"0 0 24 24\"\n",
              "       width=\"24px\">\n",
              "    <path d=\"M0 0h24v24H0V0z\" fill=\"none\"/>\n",
              "    <path d=\"M18.56 5.44l.94 2.06.94-2.06 2.06-.94-2.06-.94-.94-2.06-.94 2.06-2.06.94zm-11 1L8.5 8.5l.94-2.06 2.06-.94-2.06-.94L8.5 2.5l-.94 2.06-2.06.94zm10 10l.94 2.06.94-2.06 2.06-.94-2.06-.94-.94-2.06-.94 2.06-2.06.94z\"/><path d=\"M17.41 7.96l-1.37-1.37c-.4-.4-.92-.59-1.43-.59-.52 0-1.04.2-1.43.59L10.3 9.45l-7.72 7.72c-.78.78-.78 2.05 0 2.83L4 21.41c.39.39.9.59 1.41.59.51 0 1.02-.2 1.41-.59l7.78-7.78 2.81-2.81c.8-.78.8-2.07 0-2.86zM5.41 20L4 18.59l7.72-7.72 1.47 1.35L5.41 20z\"/>\n",
              "  </svg>\n",
              "      </button>\n",
              "      \n",
              "  <style>\n",
              "    .colab-df-container {\n",
              "      display:flex;\n",
              "      flex-wrap:wrap;\n",
              "      gap: 12px;\n",
              "    }\n",
              "\n",
              "    .colab-df-convert {\n",
              "      background-color: #E8F0FE;\n",
              "      border: none;\n",
              "      border-radius: 50%;\n",
              "      cursor: pointer;\n",
              "      display: none;\n",
              "      fill: #1967D2;\n",
              "      height: 32px;\n",
              "      padding: 0 0 0 0;\n",
              "      width: 32px;\n",
              "    }\n",
              "\n",
              "    .colab-df-convert:hover {\n",
              "      background-color: #E2EBFA;\n",
              "      box-shadow: 0px 1px 2px rgba(60, 64, 67, 0.3), 0px 1px 3px 1px rgba(60, 64, 67, 0.15);\n",
              "      fill: #174EA6;\n",
              "    }\n",
              "\n",
              "    [theme=dark] .colab-df-convert {\n",
              "      background-color: #3B4455;\n",
              "      fill: #D2E3FC;\n",
              "    }\n",
              "\n",
              "    [theme=dark] .colab-df-convert:hover {\n",
              "      background-color: #434B5C;\n",
              "      box-shadow: 0px 1px 3px 1px rgba(0, 0, 0, 0.15);\n",
              "      filter: drop-shadow(0px 1px 2px rgba(0, 0, 0, 0.3));\n",
              "      fill: #FFFFFF;\n",
              "    }\n",
              "  </style>\n",
              "\n",
              "      <script>\n",
              "        const buttonEl =\n",
              "          document.querySelector('#df-ec76387b-83e9-48f0-b6d0-0381854cded0 button.colab-df-convert');\n",
              "        buttonEl.style.display =\n",
              "          google.colab.kernel.accessAllowed ? 'block' : 'none';\n",
              "\n",
              "        async function convertToInteractive(key) {\n",
              "          const element = document.querySelector('#df-ec76387b-83e9-48f0-b6d0-0381854cded0');\n",
              "          const dataTable =\n",
              "            await google.colab.kernel.invokeFunction('convertToInteractive',\n",
              "                                                     [key], {});\n",
              "          if (!dataTable) return;\n",
              "\n",
              "          const docLinkHtml = 'Like what you see? Visit the ' +\n",
              "            '<a target=\"_blank\" href=https://colab.research.google.com/notebooks/data_table.ipynb>data table notebook</a>'\n",
              "            + ' to learn more about interactive tables.';\n",
              "          element.innerHTML = '';\n",
              "          dataTable['output_type'] = 'display_data';\n",
              "          await google.colab.output.renderOutput(dataTable, element);\n",
              "          const docLink = document.createElement('div');\n",
              "          docLink.innerHTML = docLinkHtml;\n",
              "          element.appendChild(docLink);\n",
              "        }\n",
              "      </script>\n",
              "    </div>\n",
              "  </div>\n",
              "  "
            ]
          },
          "metadata": {},
          "execution_count": 31
        }
      ]
    },
    {
      "cell_type": "markdown",
      "source": [
        "**Amount**"
      ],
      "metadata": {
        "id": "rFBBVKzmQE-F"
      }
    },
    {
      "cell_type": "code",
      "source": [
        "nofraud[\"amount\"].describe()"
      ],
      "metadata": {
        "colab": {
          "base_uri": "https://localhost:8080/"
        },
        "id": "xKFQ820TQHNx",
        "outputId": "a3719550-da5d-4a65-a1df-ec1d77aa7f85"
      },
      "execution_count": null,
      "outputs": [
        {
          "output_type": "execute_result",
          "data": {
            "text/plain": [
              "count    6.354407e+06\n",
              "mean     1.781970e+05\n",
              "std      5.962370e+05\n",
              "min      1.000000e-02\n",
              "25%      1.336840e+04\n",
              "50%      7.468472e+04\n",
              "75%      2.083648e+05\n",
              "max      9.244552e+07\n",
              "Name: amount, dtype: float64"
            ]
          },
          "metadata": {},
          "execution_count": 32
        }
      ]
    },
    {
      "cell_type": "code",
      "source": [
        "fraud[\"amount\"].describe()"
      ],
      "metadata": {
        "colab": {
          "base_uri": "https://localhost:8080/"
        },
        "id": "x-ZV0EXBQJqP",
        "outputId": "39351805-eb9c-44aa-f8eb-9facfb28f515"
      },
      "execution_count": null,
      "outputs": [
        {
          "output_type": "execute_result",
          "data": {
            "text/plain": [
              "count    8.213000e+03\n",
              "mean     1.467967e+06\n",
              "std      2.404253e+06\n",
              "min      0.000000e+00\n",
              "25%      1.270913e+05\n",
              "50%      4.414234e+05\n",
              "75%      1.517771e+06\n",
              "max      1.000000e+07\n",
              "Name: amount, dtype: float64"
            ]
          },
          "metadata": {},
          "execution_count": 33
        }
      ]
    },
    {
      "cell_type": "code",
      "source": [
        "sns.histplot(fraud[\"amount\"])"
      ],
      "metadata": {
        "colab": {
          "base_uri": "https://localhost:8080/",
          "height": 467
        },
        "id": "0roc_oUsQcVF",
        "outputId": "fa840dee-22c3-46bf-cf66-19cd645c9176"
      },
      "execution_count": null,
      "outputs": [
        {
          "output_type": "execute_result",
          "data": {
            "text/plain": [
              "<Axes: xlabel='amount', ylabel='Count'>"
            ]
          },
          "metadata": {},
          "execution_count": 34
        },
        {
          "output_type": "display_data",
          "data": {
            "text/plain": [
              "<Figure size 640x480 with 1 Axes>"
            ],
            "image/png": "[encoded data removed]"
          },
          "metadata": {}
        }
      ]
    },
    {
      "cell_type": "code",
      "source": [
        "sns.histplot(nofraud[\"amount\"])\n",
        "plt.ylim(0,50000)\n",
        "plt.xlim(0,1e7)"
      ],
      "metadata": {
        "colab": {
          "base_uri": "https://localhost:8080/",
          "height": 473
        },
        "id": "G7dG-MIDTIVr",
        "outputId": "e453328f-f9a5-4b2a-b03f-916d9dc137a5"
      },
      "execution_count": null,
      "outputs": [
        {
          "output_type": "execute_result",
          "data": {
            "text/plain": [
              "(0.0, 10000000.0)"
            ]
          },
          "metadata": {},
          "execution_count": 35
        },
        {
          "output_type": "display_data",
          "data": {
            "text/plain": [
              "<Figure size 640x480 with 1 Axes>"
            ],
            "image/png": "[encoded data removed]"
          },
          "metadata": {}
        }
      ]
    },
    {
      "cell_type": "markdown",
      "source": [
        "Higher the amount, the higher the risk of fraud."
      ],
      "metadata": {
        "id": "nDn6J0RubE6p"
      }
    },
    {
      "cell_type": "markdown",
      "source": [
        "**oldbalanceOrg** , **newbalanceOrig**, **oldbalanceDest** and **newbalanceDest**"
      ],
      "metadata": {
        "id": "Iav-xaI_a503"
      }
    },
    {
      "cell_type": "markdown",
      "source": [
        "The follwing features can be engineered.\n",
        "\n",
        "1. Did the sender initiate any transaction?\n",
        "2. Was the amount has than the sender initially had?\n",
        "3. Did the receiver get amount ?\n",
        "4. Was more than expected amount or less than expected amount debited from the transaction at senders end?\n",
        "5. Did the receiver get credited by more or less amount?\n"
      ],
      "metadata": {
        "id": "G63Sa23ZhYVh"
      }
    },
    {
      "cell_type": "markdown",
      "source": [
        "1. Sender balance change Check Flag"
      ],
      "metadata": {
        "id": "fhKIUYo4oCK9"
      }
    },
    {
      "cell_type": "markdown",
      "source": [
        "If there is a difference between the balance of originator account then it can be understood that there is an initation."
      ],
      "metadata": {
        "id": "NjeYsLviz0p7"
      }
    },
    {
      "cell_type": "code",
      "source": [
        "x=abs(df[\"oldbalanceOrg\"]-df[\"newbalanceOrig\"])"
      ],
      "metadata": {
        "id": "BUTxzDqb0xSW"
      },
      "execution_count": null,
      "outputs": []
    },
    {
      "cell_type": "code",
      "source": [
        "df[\"Sender_balance_change\"]=abs(df[\"oldbalanceOrg\"]-df[\"newbalanceOrig\"]).map(lambda x:1 if -100<x<100 else 0)"
      ],
      "metadata": {
        "id": "fi6PlGhH2ZOk"
      },
      "execution_count": null,
      "outputs": []
    },
    {
      "cell_type": "code",
      "source": [
        "df[df[\"isFraud\"]==1][\"Sender_balance_change\"].value_counts()"
      ],
      "metadata": {
        "colab": {
          "base_uri": "https://localhost:8080/"
        },
        "id": "WOB8yPYj27O2",
        "outputId": "45973ca9-0906-405a-ecb0-8cb90b567e92"
      },
      "execution_count": null,
      "outputs": [
        {
          "output_type": "execute_result",
          "data": {
            "text/plain": [
              "0    8154\n",
              "1      59\n",
              "Name: Sender_balance_change, dtype: int64"
            ]
          },
          "metadata": {},
          "execution_count": 38
        }
      ]
    },
    {
      "cell_type": "markdown",
      "source": [
        "Majority of the fraud transactions have had no change in originator account balance."
      ],
      "metadata": {
        "id": "KxfAFZuQGp_-"
      }
    },
    {
      "cell_type": "markdown",
      "source": [
        "2. Was more than expected amount or less than expected amount debited from the transaction at senders end?"
      ],
      "metadata": {
        "id": "guUykXJVw5ib"
      }
    },
    {
      "cell_type": "code",
      "source": [
        "df[\"Expected_amount_more_or_less_deducted_from_originator\"]=abs(df[\"oldbalanceOrg\"]-df[\"newbalanceOrig\"]).map(lambda x:1 if (-100>x or x<100) else 0)"
      ],
      "metadata": {
        "id": "rhZ3xgmEw5xi"
      },
      "execution_count": null,
      "outputs": []
    },
    {
      "cell_type": "code",
      "source": [
        "df[df[\"isFraud\"]==1][\"Expected_amount_more_or_less_deducted_from_originator\"].value_counts()"
      ],
      "metadata": {
        "colab": {
          "base_uri": "https://localhost:8080/"
        },
        "id": "br2jQwGBxPtM",
        "outputId": "17d56e38-2ab6-4a77-9b3e-5ec07faa8b7f"
      },
      "execution_count": null,
      "outputs": [
        {
          "output_type": "execute_result",
          "data": {
            "text/plain": [
              "0    8154\n",
              "1      59\n",
              "Name: Expected_amount_more_or_less_deducted_from_originator, dtype: int64"
            ]
          },
          "metadata": {},
          "execution_count": 40
        }
      ]
    },
    {
      "cell_type": "code",
      "source": [
        "df[df[\"isFraud\"]==0][\"Expected_amount_more_or_less_deducted_from_originator\"].value_counts()"
      ],
      "metadata": {
        "colab": {
          "base_uri": "https://localhost:8080/"
        },
        "id": "rPdIrTdMxQQ2",
        "outputId": "fe76b7dc-0837-445d-b032-1cda9f405eea"
      },
      "execution_count": null,
      "outputs": [
        {
          "output_type": "execute_result",
          "data": {
            "text/plain": [
              "0    4229342\n",
              "1    2125065\n",
              "Name: Expected_amount_more_or_less_deducted_from_originator, dtype: int64"
            ]
          },
          "metadata": {},
          "execution_count": 41
        }
      ]
    },
    {
      "cell_type": "markdown",
      "source": [
        "3. Amount vs existing balance flag"
      ],
      "metadata": {
        "id": "_Ne2NB4A1F0_"
      }
    },
    {
      "cell_type": "code",
      "source": [
        "df[\"oldbalanceOrg\"]>df[\"amount\"]"
      ],
      "metadata": {
        "colab": {
          "base_uri": "https://localhost:8080/"
        },
        "id": "tx-n2vt0xaQA",
        "outputId": "372b0baf-3d5c-434f-f718-2ecd3f9ca08f"
      },
      "execution_count": null,
      "outputs": [
        {
          "output_type": "execute_result",
          "data": {
            "text/plain": [
              "0           True\n",
              "1           True\n",
              "2          False\n",
              "3          False\n",
              "4           True\n",
              "           ...  \n",
              "6362615    False\n",
              "6362616    False\n",
              "6362617    False\n",
              "6362618    False\n",
              "6362619    False\n",
              "Length: 6362620, dtype: bool"
            ]
          },
          "metadata": {},
          "execution_count": 42
        }
      ]
    },
    {
      "cell_type": "code",
      "source": [
        "df[df[\"oldbalanceOrg\"]-df[\"amount\"]==0][\"isFraud\"].value_counts()"
      ],
      "metadata": {
        "colab": {
          "base_uri": "https://localhost:8080/"
        },
        "id": "NXn_uAWuxf1K",
        "outputId": "f7263a1a-927d-4e80-cf5a-629c10a21c09"
      },
      "execution_count": null,
      "outputs": [
        {
          "output_type": "execute_result",
          "data": {
            "text/plain": [
              "1    8034\n",
              "Name: isFraud, dtype: int64"
            ]
          },
          "metadata": {},
          "execution_count": 43
        }
      ]
    },
    {
      "cell_type": "markdown",
      "source": [
        "If oldbalance and amount equal to zero then it is definitely a fraud. So, let's create a flag column."
      ],
      "metadata": {
        "id": "TGyBX9FkyQQy"
      }
    },
    {
      "cell_type": "code",
      "source": [
        "df[\"Amount_is_less_than_existing_balance\"]=abs(df[\"oldbalanceOrg\"]-df[\"amount\"]).map(lambda x:1 if x==0 else 0)"
      ],
      "metadata": {
        "id": "NNEiqCSJoEzY"
      },
      "execution_count": null,
      "outputs": []
    },
    {
      "cell_type": "markdown",
      "source": [
        "4. Did the receiver get amount ?"
      ],
      "metadata": {
        "id": "qBpaPRgOkgYe"
      }
    },
    {
      "cell_type": "code",
      "source": [
        "#Let's check whether the receiver got any amount or not\n",
        "x=abs(df[\"oldbalanceDest\"]-df[\"newbalanceDest\"])"
      ],
      "metadata": {
        "id": "mljNN0iVq-74"
      },
      "execution_count": null,
      "outputs": []
    },
    {
      "cell_type": "code",
      "source": [
        "df[\"receiver_balance_change\"]=abs(df[\"oldbalanceDest\"]-df[\"newbalanceDest\"]).map(lambda x:1 if -100<x<100 else 0)"
      ],
      "metadata": {
        "id": "Geh6RmS_q6tY"
      },
      "execution_count": null,
      "outputs": []
    },
    {
      "cell_type": "code",
      "source": [
        "df[df[\"isFraud\"]==1][\"receiver_balance_change\"].value_counts()"
      ],
      "metadata": {
        "colab": {
          "base_uri": "https://localhost:8080/"
        },
        "id": "NYPSsZMOq8et",
        "outputId": "46e7d32b-1c0c-4b57-e8a8-0258523b3b04"
      },
      "execution_count": null,
      "outputs": [
        {
          "output_type": "execute_result",
          "data": {
            "text/plain": [
              "0    4126\n",
              "1    4087\n",
              "Name: receiver_balance_change, dtype: int64"
            ]
          },
          "metadata": {},
          "execution_count": 47
        }
      ]
    },
    {
      "cell_type": "code",
      "source": [
        "df[df[\"isFraud\"]==0][\"receiver_balance_change\"].value_counts()\n"
      ],
      "metadata": {
        "colab": {
          "base_uri": "https://localhost:8080/"
        },
        "id": "9Qarse9grUIf",
        "outputId": "f943b3fc-ce4b-43b8-fcdc-65ee11c447c6"
      },
      "execution_count": null,
      "outputs": [
        {
          "output_type": "execute_result",
          "data": {
            "text/plain": [
              "0    4039159\n",
              "1    2315248\n",
              "Name: receiver_balance_change, dtype: int64"
            ]
          },
          "metadata": {},
          "execution_count": 48
        }
      ]
    },
    {
      "cell_type": "markdown",
      "source": [
        "Receiver balance doesn't tell anything about Fraud."
      ],
      "metadata": {
        "id": "3wU63Ih_tvvr"
      }
    },
    {
      "cell_type": "markdown",
      "source": [
        "5. Did the receiver get credited by more or less amount?"
      ],
      "metadata": {
        "id": "x_n_vVShuezq"
      }
    },
    {
      "cell_type": "code",
      "source": [
        "df[\"Expected_amount_more_or_less\"]=abs(df[\"oldbalanceDest\"]-df[\"newbalanceDest\"]).map(lambda x:1 if (-100>x or x<100) else 0)"
      ],
      "metadata": {
        "id": "Ks9gXx0QtsEU"
      },
      "execution_count": null,
      "outputs": []
    },
    {
      "cell_type": "code",
      "source": [
        "df[df[\"isFraud\"]==1][\"Expected_amount_more_or_less\"].value_counts()"
      ],
      "metadata": {
        "colab": {
          "base_uri": "https://localhost:8080/"
        },
        "id": "V4XdLkTEtocw",
        "outputId": "8751a377-cf5d-490c-e51c-c97811366f6d"
      },
      "execution_count": null,
      "outputs": [
        {
          "output_type": "execute_result",
          "data": {
            "text/plain": [
              "0    4126\n",
              "1    4087\n",
              "Name: Expected_amount_more_or_less, dtype: int64"
            ]
          },
          "metadata": {},
          "execution_count": 50
        }
      ]
    },
    {
      "cell_type": "code",
      "source": [
        "df[df[\"isFraud\"]==0][\"Expected_amount_more_or_less\"].value_counts()"
      ],
      "metadata": {
        "colab": {
          "base_uri": "https://localhost:8080/"
        },
        "id": "U7DWEBSHvVoj",
        "outputId": "1288ec77-154f-4361-e39b-73a801c9b13c"
      },
      "execution_count": null,
      "outputs": [
        {
          "output_type": "execute_result",
          "data": {
            "text/plain": [
              "0    4039159\n",
              "1    2315248\n",
              "Name: Expected_amount_more_or_less, dtype: int64"
            ]
          },
          "metadata": {},
          "execution_count": 51
        }
      ]
    },
    {
      "cell_type": "markdown",
      "source": [
        "Expected amount more or less balance doesn't tell anything about Fraud."
      ],
      "metadata": {
        "id": "YsFeiXYqvntj"
      }
    },
    {
      "cell_type": "markdown",
      "source": [
        "Let's try onehot encoding the type column and run the Logistic Regression."
      ],
      "metadata": {
        "id": "KNKADGQtCZUt"
      }
    },
    {
      "cell_type": "code",
      "source": [
        "df.columns"
      ],
      "metadata": {
        "colab": {
          "base_uri": "https://localhost:8080/"
        },
        "id": "GtuPPzeqFXf3",
        "outputId": "f99456f9-0256-4d33-9362-de730802c173"
      },
      "execution_count": null,
      "outputs": [
        {
          "output_type": "execute_result",
          "data": {
            "text/plain": [
              "Index(['step', 'type', 'amount', 'nameOrig', 'oldbalanceOrg', 'newbalanceOrig',\n",
              "       'nameDest', 'oldbalanceDest', 'newbalanceDest', 'isFraud',\n",
              "       'Sender_balance_change',\n",
              "       'Expected_amount_more_or_less_deducted_from_originator',\n",
              "       'Amount_is_less_than_existing_balance', 'receiver_balance_change',\n",
              "       'Expected_amount_more_or_less'],\n",
              "      dtype='object')"
            ]
          },
          "metadata": {},
          "execution_count": 52
        }
      ]
    },
    {
      "cell_type": "code",
      "source": [
        "Y=df[\"isFraud\"]\n",
        "X=df.drop(\"isFraud\",axis=1)"
      ],
      "metadata": {
        "id": "RvqyXkk9HB0F"
      },
      "execution_count": null,
      "outputs": []
    },
    {
      "cell_type": "code",
      "source": [
        "# split the data into test and train by maintaining same distribution of output varaible 'y_true' [stratify=y_true]\n",
        "X_train, test_df, y_train, y_test = train_test_split(X, Y, stratify=Y, test_size=0.2)\n",
        "# split the train data into train and cross validation by maintaining same distribution of output varaible 'y_train' [stratify=y_train]\n",
        "train_df, cv_df, y_train, y_cv = train_test_split(X_train, y_train, stratify=y_train, test_size=0.2)"
      ],
      "metadata": {
        "id": "HkpyUV6pJAny"
      },
      "execution_count": null,
      "outputs": []
    },
    {
      "cell_type": "markdown",
      "source": [
        "Encoding using one hot encoding"
      ],
      "metadata": {
        "id": "POd_BF-OD2aa"
      }
    },
    {
      "cell_type": "code",
      "source": [
        "\n",
        "ohe = OneHotEncoder(sparse=False)\n",
        "ohe.fit(train_df[['type']])\n",
        "\n",
        "def get_ohe(df):\n",
        "    temp_df = pd.DataFrame(data=ohe.transform(df[['type']]), columns=ohe.get_feature_names_out())\n",
        "    df.drop(columns=['type'], axis=1, inplace=True)\n",
        "    df = pd.concat([df.reset_index(drop=True), temp_df], axis=1)\n",
        "    return df\n",
        "\n",
        "train_df = get_ohe(train_df)\n",
        "test_df = get_ohe(test_df)\n",
        "cv_df=get_ohe(cv_df)"
      ],
      "metadata": {
        "id": "sYPZWP9sD1yf",
        "colab": {
          "base_uri": "https://localhost:8080/"
        },
        "outputId": "11323ddc-8096-42d9-a8c9-8fc24c2e0761"
      },
      "execution_count": null,
      "outputs": [
        {
          "output_type": "stream",
          "name": "stderr",
          "text": [
            "/usr/local/lib/python3.9/dist-packages/sklearn/preprocessing/_encoders.py:868: FutureWarning: `sparse` was renamed to `sparse_output` in version 1.2 and will be removed in 1.4. `sparse_output` is ignored unless you leave `sparse` to its default value.\n",
            "  warnings.warn(\n"
          ]
        }
      ]
    },
    {
      "cell_type": "markdown",
      "source": [
        "Logistic Regression"
      ],
      "metadata": {
        "id": "7MMty8usSD_j"
      }
    },
    {
      "cell_type": "code",
      "source": [
        "alpha = [10 ** x for x in range(-3, 5)]\n",
        "cv_log_error_array = []\n",
        "for i in alpha:\n",
        "    print(\"for alpha =\", i)\n",
        "    clf = SGDClassifier( alpha=i, penalty='l2', loss='log', random_state=42)\n",
        "    clf.fit(train_df, y_train)\n",
        "    sig_clf = CalibratedClassifierCV(clf, method=\"sigmoid\")\n",
        "    sig_clf.fit(train_df, y_train)\n",
        "    sig_clf_probs = sig_clf.predict_proba(cv_df)\n",
        "    cv_log_error_array.append(log_loss(y_cv, sig_clf_probs, labels=clf.classes_, eps=1e-15))\n",
        "    # to avoid rounding error while multiplying probabilites we use log-probability estimates\n",
        "    print(\"Log Loss :\",log_loss(y_cv, sig_clf_probs)) \n",
        "\n",
        "fig, ax = plt.subplots()\n",
        "ax.plot(alpha, cv_log_error_array,c='g')\n",
        "for i, txt in enumerate(np.round(cv_log_error_array,3)):\n",
        "    ax.annotate((alpha[i],str(txt)), (alpha[i],cv_log_error_array[i]))\n",
        "plt.grid()\n",
        "plt.title(\"Cross Validation Error for each alpha\")\n",
        "plt.xlabel(\"Alpha i's\")\n",
        "plt.ylabel(\"Error measure\")\n",
        "plt.show()\n",
        "\n",
        "\n",
        "best_alpha = np.argmin(cv_log_error_array)\n",
        "clf = SGDClassifier( alpha=alpha[best_alpha], penalty='l2', loss='log', random_state=42)\n",
        "clf.fit(train_df, y_train)\n",
        "sig_clf = CalibratedClassifierCV(clf, method=\"sigmoid\")\n",
        "sig_clf.fit(train_df, y_train)\n",
        "\n",
        "predict_y = sig_clf.predict_proba(train_df)\n",
        "print('For values of best alpha = ', alpha[best_alpha], \"The train log loss is:\",log_loss(y_train, predict_y, labels=clf.classes_, eps=1e-15))\n",
        "predict_y = sig_clf.predict_proba(cv_df)\n",
        "print('For values of best alpha = ', alpha[best_alpha], \"The cross validation log loss is:\",log_loss(y_cv, predict_y, labels=clf.classes_, eps=1e-15))\n",
        "predict_y = sig_clf.predict_proba(test_df)\n",
        "print('For values of best alpha = ', alpha[best_alpha], \"The test log loss is:\",log_loss(y_test, predict_y, labels=clf.classes_, eps=1e-15))"
      ],
      "metadata": {
        "colab": {
          "base_uri": "https://localhost:8080/",
          "height": 1000
        },
        "id": "Z9I5LePoQRZU",
        "outputId": "508008d1-4ab0-4729-9141-2e238b934997"
      },
      "execution_count": null,
      "outputs": [
        {
          "output_type": "stream",
          "name": "stdout",
          "text": [
            "for alpha = 0.001\n"
          ]
        },
        {
          "output_type": "stream",
          "name": "stderr",
          "text": [
            "/usr/local/lib/python3.9/dist-packages/sklearn/linear_model/_stochastic_gradient.py:163: FutureWarning: The loss 'log' was deprecated in v1.1 and will be removed in version 1.3. Use `loss='log_loss'` which is equivalent.\n",
            "  warnings.warn(\n",
            "/usr/local/lib/python3.9/dist-packages/sklearn/linear_model/_stochastic_gradient.py:163: FutureWarning: The loss 'log' was deprecated in v1.1 and will be removed in version 1.3. Use `loss='log_loss'` which is equivalent.\n",
            "  warnings.warn(\n",
            "/usr/local/lib/python3.9/dist-packages/sklearn/linear_model/_stochastic_gradient.py:163: FutureWarning: The loss 'log' was deprecated in v1.1 and will be removed in version 1.3. Use `loss='log_loss'` which is equivalent.\n",
            "  warnings.warn(\n",
            "/usr/local/lib/python3.9/dist-packages/sklearn/linear_model/_stochastic_gradient.py:163: FutureWarning: The loss 'log' was deprecated in v1.1 and will be removed in version 1.3. Use `loss='log_loss'` which is equivalent.\n",
            "  warnings.warn(\n",
            "/usr/local/lib/python3.9/dist-packages/sklearn/linear_model/_stochastic_gradient.py:163: FutureWarning: The loss 'log' was deprecated in v1.1 and will be removed in version 1.3. Use `loss='log_loss'` which is equivalent.\n",
            "  warnings.warn(\n",
            "/usr/local/lib/python3.9/dist-packages/sklearn/linear_model/_stochastic_gradient.py:163: FutureWarning: The loss 'log' was deprecated in v1.1 and will be removed in version 1.3. Use `loss='log_loss'` which is equivalent.\n",
            "  warnings.warn(\n"
          ]
        },
        {
          "output_type": "stream",
          "name": "stdout",
          "text": [
            "Log Loss : 0.009876611811544318\n",
            "for alpha = 0.01\n"
          ]
        },
        {
          "output_type": "stream",
          "name": "stderr",
          "text": [
            "/usr/local/lib/python3.9/dist-packages/sklearn/linear_model/_stochastic_gradient.py:163: FutureWarning: The loss 'log' was deprecated in v1.1 and will be removed in version 1.3. Use `loss='log_loss'` which is equivalent.\n",
            "  warnings.warn(\n",
            "/usr/local/lib/python3.9/dist-packages/sklearn/linear_model/_stochastic_gradient.py:163: FutureWarning: The loss 'log' was deprecated in v1.1 and will be removed in version 1.3. Use `loss='log_loss'` which is equivalent.\n",
            "  warnings.warn(\n",
            "/usr/local/lib/python3.9/dist-packages/sklearn/linear_model/_stochastic_gradient.py:163: FutureWarning: The loss 'log' was deprecated in v1.1 and will be removed in version 1.3. Use `loss='log_loss'` which is equivalent.\n",
            "  warnings.warn(\n",
            "/usr/local/lib/python3.9/dist-packages/sklearn/linear_model/_stochastic_gradient.py:163: FutureWarning: The loss 'log' was deprecated in v1.1 and will be removed in version 1.3. Use `loss='log_loss'` which is equivalent.\n",
            "  warnings.warn(\n",
            "/usr/local/lib/python3.9/dist-packages/sklearn/linear_model/_stochastic_gradient.py:163: FutureWarning: The loss 'log' was deprecated in v1.1 and will be removed in version 1.3. Use `loss='log_loss'` which is equivalent.\n",
            "  warnings.warn(\n",
            "/usr/local/lib/python3.9/dist-packages/sklearn/linear_model/_stochastic_gradient.py:163: FutureWarning: The loss 'log' was deprecated in v1.1 and will be removed in version 1.3. Use `loss='log_loss'` which is equivalent.\n",
            "  warnings.warn(\n"
          ]
        },
        {
          "output_type": "stream",
          "name": "stdout",
          "text": [
            "Log Loss : 0.009876611811544318\n",
            "for alpha = 0.1\n"
          ]
        },
        {
          "output_type": "stream",
          "name": "stderr",
          "text": [
            "/usr/local/lib/python3.9/dist-packages/sklearn/linear_model/_stochastic_gradient.py:163: FutureWarning: The loss 'log' was deprecated in v1.1 and will be removed in version 1.3. Use `loss='log_loss'` which is equivalent.\n",
            "  warnings.warn(\n",
            "/usr/local/lib/python3.9/dist-packages/sklearn/linear_model/_stochastic_gradient.py:163: FutureWarning: The loss 'log' was deprecated in v1.1 and will be removed in version 1.3. Use `loss='log_loss'` which is equivalent.\n",
            "  warnings.warn(\n",
            "/usr/local/lib/python3.9/dist-packages/sklearn/linear_model/_stochastic_gradient.py:163: FutureWarning: The loss 'log' was deprecated in v1.1 and will be removed in version 1.3. Use `loss='log_loss'` which is equivalent.\n",
            "  warnings.warn(\n",
            "/usr/local/lib/python3.9/dist-packages/sklearn/linear_model/_stochastic_gradient.py:163: FutureWarning: The loss 'log' was deprecated in v1.1 and will be removed in version 1.3. Use `loss='log_loss'` which is equivalent.\n",
            "  warnings.warn(\n",
            "/usr/local/lib/python3.9/dist-packages/sklearn/linear_model/_stochastic_gradient.py:163: FutureWarning: The loss 'log' was deprecated in v1.1 and will be removed in version 1.3. Use `loss='log_loss'` which is equivalent.\n",
            "  warnings.warn(\n",
            "/usr/local/lib/python3.9/dist-packages/sklearn/linear_model/_stochastic_gradient.py:163: FutureWarning: The loss 'log' was deprecated in v1.1 and will be removed in version 1.3. Use `loss='log_loss'` which is equivalent.\n",
            "  warnings.warn(\n"
          ]
        },
        {
          "output_type": "stream",
          "name": "stdout",
          "text": [
            "Log Loss : 0.009876611811544318\n",
            "for alpha = 1\n"
          ]
        },
        {
          "output_type": "stream",
          "name": "stderr",
          "text": [
            "/usr/local/lib/python3.9/dist-packages/sklearn/linear_model/_stochastic_gradient.py:163: FutureWarning: The loss 'log' was deprecated in v1.1 and will be removed in version 1.3. Use `loss='log_loss'` which is equivalent.\n",
            "  warnings.warn(\n",
            "/usr/local/lib/python3.9/dist-packages/sklearn/linear_model/_stochastic_gradient.py:163: FutureWarning: The loss 'log' was deprecated in v1.1 and will be removed in version 1.3. Use `loss='log_loss'` which is equivalent.\n",
            "  warnings.warn(\n",
            "/usr/local/lib/python3.9/dist-packages/sklearn/linear_model/_stochastic_gradient.py:163: FutureWarning: The loss 'log' was deprecated in v1.1 and will be removed in version 1.3. Use `loss='log_loss'` which is equivalent.\n",
            "  warnings.warn(\n",
            "/usr/local/lib/python3.9/dist-packages/sklearn/linear_model/_stochastic_gradient.py:163: FutureWarning: The loss 'log' was deprecated in v1.1 and will be removed in version 1.3. Use `loss='log_loss'` which is equivalent.\n",
            "  warnings.warn(\n",
            "/usr/local/lib/python3.9/dist-packages/sklearn/linear_model/_stochastic_gradient.py:163: FutureWarning: The loss 'log' was deprecated in v1.1 and will be removed in version 1.3. Use `loss='log_loss'` which is equivalent.\n",
            "  warnings.warn(\n",
            "/usr/local/lib/python3.9/dist-packages/sklearn/linear_model/_stochastic_gradient.py:163: FutureWarning: The loss 'log' was deprecated in v1.1 and will be removed in version 1.3. Use `loss='log_loss'` which is equivalent.\n",
            "  warnings.warn(\n"
          ]
        },
        {
          "output_type": "stream",
          "name": "stdout",
          "text": [
            "Log Loss : 0.009876611811544318\n",
            "for alpha = 10\n"
          ]
        },
        {
          "output_type": "stream",
          "name": "stderr",
          "text": [
            "/usr/local/lib/python3.9/dist-packages/sklearn/linear_model/_stochastic_gradient.py:163: FutureWarning: The loss 'log' was deprecated in v1.1 and will be removed in version 1.3. Use `loss='log_loss'` which is equivalent.\n",
            "  warnings.warn(\n",
            "/usr/local/lib/python3.9/dist-packages/sklearn/linear_model/_stochastic_gradient.py:163: FutureWarning: The loss 'log' was deprecated in v1.1 and will be removed in version 1.3. Use `loss='log_loss'` which is equivalent.\n",
            "  warnings.warn(\n",
            "/usr/local/lib/python3.9/dist-packages/sklearn/linear_model/_stochastic_gradient.py:163: FutureWarning: The loss 'log' was deprecated in v1.1 and will be removed in version 1.3. Use `loss='log_loss'` which is equivalent.\n",
            "  warnings.warn(\n",
            "/usr/local/lib/python3.9/dist-packages/sklearn/linear_model/_stochastic_gradient.py:163: FutureWarning: The loss 'log' was deprecated in v1.1 and will be removed in version 1.3. Use `loss='log_loss'` which is equivalent.\n",
            "  warnings.warn(\n",
            "/usr/local/lib/python3.9/dist-packages/sklearn/linear_model/_stochastic_gradient.py:163: FutureWarning: The loss 'log' was deprecated in v1.1 and will be removed in version 1.3. Use `loss='log_loss'` which is equivalent.\n",
            "  warnings.warn(\n",
            "/usr/local/lib/python3.9/dist-packages/sklearn/linear_model/_stochastic_gradient.py:163: FutureWarning: The loss 'log' was deprecated in v1.1 and will be removed in version 1.3. Use `loss='log_loss'` which is equivalent.\n",
            "  warnings.warn(\n"
          ]
        },
        {
          "output_type": "stream",
          "name": "stdout",
          "text": [
            "Log Loss : 0.009876611811544318\n",
            "for alpha = 100\n"
          ]
        },
        {
          "output_type": "stream",
          "name": "stderr",
          "text": [
            "/usr/local/lib/python3.9/dist-packages/sklearn/linear_model/_stochastic_gradient.py:163: FutureWarning: The loss 'log' was deprecated in v1.1 and will be removed in version 1.3. Use `loss='log_loss'` which is equivalent.\n",
            "  warnings.warn(\n",
            "/usr/local/lib/python3.9/dist-packages/sklearn/linear_model/_stochastic_gradient.py:163: FutureWarning: The loss 'log' was deprecated in v1.1 and will be removed in version 1.3. Use `loss='log_loss'` which is equivalent.\n",
            "  warnings.warn(\n",
            "/usr/local/lib/python3.9/dist-packages/sklearn/linear_model/_stochastic_gradient.py:163: FutureWarning: The loss 'log' was deprecated in v1.1 and will be removed in version 1.3. Use `loss='log_loss'` which is equivalent.\n",
            "  warnings.warn(\n",
            "/usr/local/lib/python3.9/dist-packages/sklearn/linear_model/_stochastic_gradient.py:163: FutureWarning: The loss 'log' was deprecated in v1.1 and will be removed in version 1.3. Use `loss='log_loss'` which is equivalent.\n",
            "  warnings.warn(\n",
            "/usr/local/lib/python3.9/dist-packages/sklearn/linear_model/_stochastic_gradient.py:163: FutureWarning: The loss 'log' was deprecated in v1.1 and will be removed in version 1.3. Use `loss='log_loss'` which is equivalent.\n",
            "  warnings.warn(\n",
            "/usr/local/lib/python3.9/dist-packages/sklearn/linear_model/_stochastic_gradient.py:163: FutureWarning: The loss 'log' was deprecated in v1.1 and will be removed in version 1.3. Use `loss='log_loss'` which is equivalent.\n",
            "  warnings.warn(\n"
          ]
        },
        {
          "output_type": "stream",
          "name": "stdout",
          "text": [
            "Log Loss : 0.008515093839849849\n",
            "for alpha = 1000\n"
          ]
        },
        {
          "output_type": "stream",
          "name": "stderr",
          "text": [
            "/usr/local/lib/python3.9/dist-packages/sklearn/linear_model/_stochastic_gradient.py:163: FutureWarning: The loss 'log' was deprecated in v1.1 and will be removed in version 1.3. Use `loss='log_loss'` which is equivalent.\n",
            "  warnings.warn(\n",
            "/usr/local/lib/python3.9/dist-packages/sklearn/linear_model/_stochastic_gradient.py:163: FutureWarning: The loss 'log' was deprecated in v1.1 and will be removed in version 1.3. Use `loss='log_loss'` which is equivalent.\n",
            "  warnings.warn(\n",
            "/usr/local/lib/python3.9/dist-packages/sklearn/linear_model/_stochastic_gradient.py:163: FutureWarning: The loss 'log' was deprecated in v1.1 and will be removed in version 1.3. Use `loss='log_loss'` which is equivalent.\n",
            "  warnings.warn(\n",
            "/usr/local/lib/python3.9/dist-packages/sklearn/linear_model/_stochastic_gradient.py:163: FutureWarning: The loss 'log' was deprecated in v1.1 and will be removed in version 1.3. Use `loss='log_loss'` which is equivalent.\n",
            "  warnings.warn(\n",
            "/usr/local/lib/python3.9/dist-packages/sklearn/linear_model/_stochastic_gradient.py:163: FutureWarning: The loss 'log' was deprecated in v1.1 and will be removed in version 1.3. Use `loss='log_loss'` which is equivalent.\n",
            "  warnings.warn(\n",
            "/usr/local/lib/python3.9/dist-packages/sklearn/linear_model/_stochastic_gradient.py:163: FutureWarning: The loss 'log' was deprecated in v1.1 and will be removed in version 1.3. Use `loss='log_loss'` which is equivalent.\n",
            "  warnings.warn(\n"
          ]
        },
        {
          "output_type": "stream",
          "name": "stdout",
          "text": [
            "Log Loss : 0.00885620802857103\n",
            "for alpha = 10000\n"
          ]
        },
        {
          "output_type": "stream",
          "name": "stderr",
          "text": [
            "/usr/local/lib/python3.9/dist-packages/sklearn/linear_model/_stochastic_gradient.py:163: FutureWarning: The loss 'log' was deprecated in v1.1 and will be removed in version 1.3. Use `loss='log_loss'` which is equivalent.\n",
            "  warnings.warn(\n",
            "/usr/local/lib/python3.9/dist-packages/sklearn/linear_model/_stochastic_gradient.py:163: FutureWarning: The loss 'log' was deprecated in v1.1 and will be removed in version 1.3. Use `loss='log_loss'` which is equivalent.\n",
            "  warnings.warn(\n",
            "/usr/local/lib/python3.9/dist-packages/sklearn/linear_model/_stochastic_gradient.py:163: FutureWarning: The loss 'log' was deprecated in v1.1 and will be removed in version 1.3. Use `loss='log_loss'` which is equivalent.\n",
            "  warnings.warn(\n",
            "/usr/local/lib/python3.9/dist-packages/sklearn/linear_model/_stochastic_gradient.py:163: FutureWarning: The loss 'log' was deprecated in v1.1 and will be removed in version 1.3. Use `loss='log_loss'` which is equivalent.\n",
            "  warnings.warn(\n",
            "/usr/local/lib/python3.9/dist-packages/sklearn/linear_model/_stochastic_gradient.py:163: FutureWarning: The loss 'log' was deprecated in v1.1 and will be removed in version 1.3. Use `loss='log_loss'` which is equivalent.\n",
            "  warnings.warn(\n",
            "/usr/local/lib/python3.9/dist-packages/sklearn/linear_model/_stochastic_gradient.py:163: FutureWarning: The loss 'log' was deprecated in v1.1 and will be removed in version 1.3. Use `loss='log_loss'` which is equivalent.\n",
            "  warnings.warn(\n"
          ]
        },
        {
          "output_type": "stream",
          "name": "stdout",
          "text": [
            "Log Loss : 0.008654724652512753\n"
          ]
        },
        {
          "output_type": "display_data",
          "data": {
            "text/plain": [
              "<Figure size 640x480 with 1 Axes>"
            ],
            "image/png": "[encoded data removed]"
          },
          "metadata": {}
        },
        {
          "output_type": "stream",
          "name": "stderr",
          "text": [
            "/usr/local/lib/python3.9/dist-packages/sklearn/linear_model/_stochastic_gradient.py:163: FutureWarning: The loss 'log' was deprecated in v1.1 and will be removed in version 1.3. Use `loss='log_loss'` which is equivalent.\n",
            "  warnings.warn(\n",
            "/usr/local/lib/python3.9/dist-packages/sklearn/linear_model/_stochastic_gradient.py:163: FutureWarning: The loss 'log' was deprecated in v1.1 and will be removed in version 1.3. Use `loss='log_loss'` which is equivalent.\n",
            "  warnings.warn(\n",
            "/usr/local/lib/python3.9/dist-packages/sklearn/linear_model/_stochastic_gradient.py:163: FutureWarning: The loss 'log' was deprecated in v1.1 and will be removed in version 1.3. Use `loss='log_loss'` which is equivalent.\n",
            "  warnings.warn(\n",
            "/usr/local/lib/python3.9/dist-packages/sklearn/linear_model/_stochastic_gradient.py:163: FutureWarning: The loss 'log' was deprecated in v1.1 and will be removed in version 1.3. Use `loss='log_loss'` which is equivalent.\n",
            "  warnings.warn(\n",
            "/usr/local/lib/python3.9/dist-packages/sklearn/linear_model/_stochastic_gradient.py:163: FutureWarning: The loss 'log' was deprecated in v1.1 and will be removed in version 1.3. Use `loss='log_loss'` which is equivalent.\n",
            "  warnings.warn(\n",
            "/usr/local/lib/python3.9/dist-packages/sklearn/linear_model/_stochastic_gradient.py:163: FutureWarning: The loss 'log' was deprecated in v1.1 and will be removed in version 1.3. Use `loss='log_loss'` which is equivalent.\n",
            "  warnings.warn(\n"
          ]
        },
        {
          "output_type": "stream",
          "name": "stdout",
          "text": [
            "For values of best alpha =  100 The train log loss is: 0.008524494930680032\n",
            "For values of best alpha =  100 The cross validation log loss is: 0.008515093839849849\n",
            "For values of best alpha =  100 The test log loss is: 0.008516588686147804\n"
          ]
        }
      ]
    },
    {
      "cell_type": "code",
      "source": [
        "predict_y=sig_clf.predict(test_df)"
      ],
      "metadata": {
        "id": "Qs5Xjl2F2kuT"
      },
      "execution_count": null,
      "outputs": []
    },
    {
      "cell_type": "code",
      "source": [
        "predict_y"
      ],
      "metadata": {
        "colab": {
          "base_uri": "https://localhost:8080/"
        },
        "id": "D7Ao2yGq5wHy",
        "outputId": "dd4b6006-4cf4-442b-da79-2e61baa82f48"
      },
      "execution_count": null,
      "outputs": [
        {
          "output_type": "execute_result",
          "data": {
            "text/plain": [
              "array([0, 0, 0, ..., 0, 0, 0])"
            ]
          },
          "metadata": {},
          "execution_count": 55
        }
      ]
    },
    {
      "cell_type": "code",
      "source": [
        "confusion_matrix(predict_y,y_test)"
      ],
      "metadata": {
        "colab": {
          "base_uri": "https://localhost:8080/"
        },
        "id": "mtA5AOh_2bKQ",
        "outputId": "e5615405-bba1-4705-e375-4183eb212d5e"
      },
      "execution_count": null,
      "outputs": [
        {
          "output_type": "execute_result",
          "data": {
            "text/plain": [
              "array([[1270881,    1643],\n",
              "       [      0,       0]])"
            ]
          },
          "metadata": {},
          "execution_count": 56
        }
      ]
    },
    {
      "cell_type": "markdown",
      "source": [
        "This LR model is classifying zero fraud case correctly. So, there this model is performing worse than a dumb model which can be designed to produce 0(NoFraud)."
      ],
      "metadata": {
        "id": "1yKxtg7rncZN"
      }
    },
    {
      "cell_type": "markdown",
      "source": [
        "Random Forest"
      ],
      "metadata": {
        "id": "pXPJYVyYiz8A"
      }
    },
    {
      "cell_type": "code",
      "source": [
        "alpha = [10,50,100]\n",
        "max_depth = [1,5,10]\n",
        "cv_log_error_array = []\n",
        "for i in alpha:\n",
        "    for j in max_depth:\n",
        "        print(\"for n_estimators =\", i,\"and max depth = \", j)\n",
        "        clf = RandomForestClassifier(n_estimators=i, criterion='gini', max_depth=j, random_state=42, n_jobs=-1)\n",
        "        clf.fit(train_df, y_train)\n",
        "        sig_clf = CalibratedClassifierCV(clf, method=\"sigmoid\")\n",
        "        sig_clf.fit(train_df, y_train)\n",
        "        sig_clf_probs = sig_clf.predict_proba(cv_df)\n",
        "        cv_log_error_array.append(log_loss(y_cv, sig_clf_probs, labels=clf.classes_, eps=1e-15))\n",
        "        print(\"Log Loss :\",log_loss(y_cv, sig_clf_probs)) \n",
        "\n",
        "fig, ax = plt.subplots()\n",
        "features = np.dot(np.array(alpha)[:,None],np.array(max_depth)[None]).ravel()\n",
        "ax.plot(features, cv_log_error_array,c='g')\n",
        "for i, txt in enumerate(np.round(cv_log_error_array,3)):\n",
        "    ax.annotate((alpha[int(i/2)],max_depth[int(i%2)],str(txt)), (features[i],cv_log_error_array[i]))\n",
        "plt.grid()\n",
        "plt.title(\"Cross Validation Error for each alpha\")\n",
        "plt.xlabel(\"Alpha i's\")\n",
        "plt.ylabel(\"Error measure\")\n",
        "plt.show()\n"
      ],
      "metadata": {
        "colab": {
          "base_uri": "https://localhost:8080/"
        },
        "id": "NglGU0nlG6vL",
        "outputId": "fb2b8eab-2256-480b-c086-0400f5067003"
      },
      "execution_count": null,
      "outputs": [
        {
          "output_type": "stream",
          "name": "stdout",
          "text": [
            "for n_estimators = 10 and max depth =  1\n",
            "Log Loss : 0.00031468616216186255\n",
            "for n_estimators = 10 and max depth =  5\n",
            "Log Loss : 3.2041294845645634e-05\n",
            "for n_estimators = 10 and max depth =  10\n",
            "Log Loss : 3.304193550782137e-05\n",
            "for n_estimators = 50 and max depth =  1\n",
            "Log Loss : 0.00033721307600737915\n",
            "for n_estimators = 50 and max depth =  5\n",
            "Log Loss : 3.431807767838636e-05\n",
            "for n_estimators = 50 and max depth =  10\n",
            "Log Loss : 3.360930752097594e-05\n",
            "for n_estimators = 100 and max depth =  1\n",
            "Log Loss : 0.00033726674592960966\n",
            "for n_estimators = 100 and max depth =  5\n",
            "Log Loss : 3.3823735560418155e-05\n",
            "for n_estimators = 100 and max depth =  10\n"
          ]
        }
      ]
    },
    {
      "cell_type": "code",
      "source": [
        "clf = RandomForestClassifier(n_estimators=5, criterion='gini', max_depth=10, random_state=42, n_jobs=-1)\n",
        "clf.fit(train_df, y_train)\n",
        "sig_clf = CalibratedClassifierCV(clf, method=\"sigmoid\")\n",
        "sig_clf.fit(train_df, y_train)\n",
        "\n",
        "predict_y = sig_clf.predict_proba(train_df)\n",
        "print('For values of best estimator = ', 50, \"The train log loss is:\",log_loss(y_train, predict_y, labels=clf.classes_, eps=1e-15))\n",
        "predict_y = sig_clf.predict_proba(cv_df)\n",
        "print('For values of best estimator = ', 50, \"The cross validation log loss is:\",log_loss(y_cv, predict_y, labels=clf.classes_, eps=1e-15))\n",
        "predict_y = sig_clf.predict_proba(test_df)\n",
        "print('For values of best estimator = ', 50, \"The test log loss is:\",log_loss(y_test, predict_y, labels=clf.classes_, eps=1e-15))"
      ],
      "metadata": {
        "colab": {
          "base_uri": "https://localhost:8080/"
        },
        "id": "hVuGMTHeexFb",
        "outputId": "13127ef0-eceb-4163-fbec-6c280869cb80"
      },
      "execution_count": null,
      "outputs": [
        {
          "output_type": "stream",
          "name": "stdout",
          "text": [
            "For values of best estimator =  150 The train log loss is: 5.231626745402787e-05\n",
            "For values of best estimator =  150 The cross validation log loss is: 6.855921456794709e-05\n",
            "For values of best estimator =  150 The test log loss is: 3.613285299908453e-05\n"
          ]
        }
      ]
    },
    {
      "cell_type": "code",
      "source": [
        "import pickle\n",
        "pickle.dump(sig_clf, open('model.pkl', 'wb'))"
      ],
      "metadata": {
        "id": "965wjSmLPDJS"
      },
      "execution_count": null,
      "outputs": []
    },
    {
      "cell_type": "markdown",
      "source": [
        "The differences between errors is minimal and almost negligible. So, the model is doing pretty well. Now, let's look at the confusion matrix."
      ],
      "metadata": {
        "id": "PO_eB-Wkp-cN"
      }
    },
    {
      "cell_type": "code",
      "source": [
        "predict_y=sig_clf.predict(test_df)"
      ],
      "metadata": {
        "id": "-Q0kKvB8okF-"
      },
      "execution_count": 59,
      "outputs": []
    },
    {
      "cell_type": "code",
      "source": [
        "def heatmap_cm(cm):\n",
        "  ax= plt.subplot();\n",
        "  sns.heatmap(cm, annot=True,cmap='Blues',ax=ax,fmt=\"d\");\n",
        "  # labels, title and ticks\n",
        "  ax.set_xlabel('Predicted labels');ax.set_ylabel('True labels'); \n",
        "  ax.set_ylim(2.0, 0)\n",
        "  ax.set_title('Confusion Matrix');\n",
        "  ax.xaxis.set_ticklabels(['Non-Fraudulent','Fraudulent']); \n",
        "  ax.yaxis.set_ticklabels(['Non-Fraudulent','Fraudulent']);"
      ],
      "metadata": {
        "id": "7YVLy3RBXxXO"
      },
      "execution_count": 62,
      "outputs": []
    },
    {
      "cell_type": "code",
      "source": [
        "confusion_matrix(predict_y,y_test)"
      ],
      "metadata": {
        "id": "B8SGt5e4otyP",
        "colab": {
          "base_uri": "https://localhost:8080/"
        },
        "outputId": "25db1c9c-f5b8-4958-b8af-4d50a7a409ae"
      },
      "execution_count": 63,
      "outputs": [
        {
          "output_type": "execute_result",
          "data": {
            "text/plain": [
              "array([[1270881,       3],\n",
              "       [      0,    1640]])"
            ]
          },
          "metadata": {},
          "execution_count": 63
        }
      ]
    },
    {
      "cell_type": "code",
      "source": [
        "heatmap_cm(confusion_matrix(predict_y,y_test))"
      ],
      "metadata": {
        "colab": {
          "base_uri": "https://localhost:8080/",
          "height": 472
        },
        "id": "Af-c6yu6X0j0",
        "outputId": "f28fff91-fbd8-4fe7-f57e-1342196b5bf1"
      },
      "execution_count": 64,
      "outputs": [
        {
          "output_type": "display_data",
          "data": {
            "text/plain": [
              "<Figure size 640x480 with 2 Axes>"
            ],
            "image/png": "[encoded data removed]"
          },
          "metadata": {}
        }
      ]
    },
    {
      "cell_type": "code",
      "source": [
        "from sklearn.metrics import auc,precision_recall_curve\n",
        "from sklearn.metrics import confusion_matrix\n",
        "# Use AUC function to calculate the area under the curve of precision recall curve\n",
        "tn, fp, fn, tp = confusion_matrix(y_test, predict_y).ravel()\n",
        "\n",
        "print(\"True Negatives:\", tn)\n",
        "print(\"False Positives:\", fp)\n",
        "print(\"False Negatives:\", fn)\n",
        "print(\"True Positives:\", tp)"
      ],
      "metadata": {
        "id": "W8CldGstUKLF",
        "colab": {
          "base_uri": "https://localhost:8080/"
        },
        "outputId": "aa3662b1-3c9b-4cc3-e24a-d11f4475ce3b"
      },
      "execution_count": 76,
      "outputs": [
        {
          "output_type": "stream",
          "name": "stdout",
          "text": [
            "True Negatives: 1270881\n",
            "False Positives: 0\n",
            "False Negatives: 3\n",
            "True Positives: 1640\n"
          ]
        }
      ]
    },
    {
      "cell_type": "code",
      "source": [
        "print(\"False Negative Rate is\",round(fp*100/(fp+tn),3),\"%\")"
      ],
      "metadata": {
        "colab": {
          "base_uri": "https://localhost:8080/"
        },
        "id": "uV4Zp6uucJSk",
        "outputId": "7d22068e-2d44-4f3a-83a5-0772d8c96455"
      },
      "execution_count": 83,
      "outputs": [
        {
          "output_type": "stream",
          "name": "stdout",
          "text": [
            "False Negative Rate is 0.0 %\n"
          ]
        }
      ]
    },
    {
      "cell_type": "code",
      "source": [
        "print(\"True Negative Rate is\",round(tn*100/(tn+fp),3),\"%\")"
      ],
      "metadata": {
        "colab": {
          "base_uri": "https://localhost:8080/"
        },
        "id": "mPH6R9XTdAGf",
        "outputId": "84fa7fff-a874-4760-a651-0d032b698249"
      },
      "execution_count": 84,
      "outputs": [
        {
          "output_type": "stream",
          "name": "stdout",
          "text": [
            "True Negative Rate is 100.0 %\n"
          ]
        }
      ]
    },
    {
      "cell_type": "markdown",
      "source": [
        "The model is doing a terrific job at classification. Let's look at it's ROC-AUC score now."
      ],
      "metadata": {
        "id": "z1FI6LfWqKPF"
      }
    },
    {
      "cell_type": "code",
      "source": [
        "roc_auc_score(y_test, predict_y)"
      ],
      "metadata": {
        "colab": {
          "base_uri": "https://localhost:8080/"
        },
        "id": "r2mkoFlJqS1g",
        "outputId": "95e982b6-1f26-4156-b608-555f7f86b70e"
      },
      "execution_count": null,
      "outputs": [
        {
          "output_type": "execute_result",
          "data": {
            "text/plain": [
              "0.996956786366403"
            ]
          },
          "metadata": {},
          "execution_count": 57
        }
      ]
    },
    {
      "cell_type": "markdown",
      "source": [
        "The ROC-AUC score is pretty decent too"
      ],
      "metadata": {
        "id": "I-iBaxriKVPO"
      }
    },
    {
      "cell_type": "code",
      "source": [
        "abs(len(y_test[y_test==1])-len(predict_y[predict_y==1]))"
      ],
      "metadata": {
        "colab": {
          "base_uri": "https://localhost:8080/"
        },
        "id": "mO9Fc69SLLOm",
        "outputId": "1abf9f1d-9ce3-4a6a-90f0-b7d871108673"
      },
      "execution_count": null,
      "outputs": [
        {
          "output_type": "execute_result",
          "data": {
            "text/plain": [
              "10"
            ]
          },
          "metadata": {},
          "execution_count": 65
        }
      ]
    },
    {
      "cell_type": "markdown",
      "source": [
        "Only 10 Fraud cases have been classified as not fraud cases.\n",
        "\n",
        "\n"
      ],
      "metadata": {
        "id": "OHefbGEZMj2E"
      }
    },
    {
      "cell_type": "code",
      "source": [],
      "metadata": {
        "id": "QAYifosuMcfG"
      },
      "execution_count": null,
      "outputs": []
    }
  ]
}